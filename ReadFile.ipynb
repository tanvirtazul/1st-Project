{
  "nbformat": 4,
  "nbformat_minor": 0,
  "metadata": {
    "colab": {
      "name": "ReadFile.ipynb",
      "provenance": [],
      "authorship_tag": "ABX9TyNwOf8yA94GGgIH3YbmohIz",
      "include_colab_link": true
    },
    "kernelspec": {
      "name": "python3",
      "display_name": "Python 3"
    },
    "language_info": {
      "name": "python"
    }
  },
  "cells": [
    {
      "cell_type": "markdown",
      "metadata": {
        "id": "view-in-github",
        "colab_type": "text"
      },
      "source": [
        "<a href=\"https://colab.research.google.com/github/tanvirtazul/1st-Project/blob/main/ReadFile.ipynb\" target=\"_parent\"><img src=\"https://colab.research.google.com/assets/colab-badge.svg\" alt=\"Open In Colab\"/></a>"
      ]
    },
    {
      "cell_type": "code",
      "execution_count": null,
      "metadata": {
        "id": "Y4aPdesfBjgg"
      },
      "outputs": [],
      "source": [
        "import string\n",
        "\n",
        "f = open('Note.txt', 'r')\n",
        "\n",
        "number_list = []\n",
        "\n",
        "for line in f:\n",
        "    number = \"\"\n",
        "    for c in line:\n",
        "        if c == '*':\n",
        "            break\n",
        "        else:\n",
        "            if c.isdigit():\n",
        "                number += c\n",
        "            \n",
        "            if c == \"t\":\n",
        "                break\n",
        "\n",
        "    if number != \"\":\n",
        "        print(number)\n",
        "        number_list.append(number)\n",
        "\n",
        "sum = 0\n",
        "# print(len(number_list))\n",
        "for number in number_list:\n",
        "    # print(number)\n",
        "    sum = sum + int(number)\n",
        "\n",
        "print('Total amount is = ',sum, 'taka')\n"
      ]
    },
    {
      "cell_type": "markdown",
      "source": [
        "Digits: 0-9\n",
        "Character: ','\n",
        "\n",
        "\n",
        "line = Read the text file line by line.\n",
        "\n",
        "Go thru the line\n",
        "\n",
        "If the word starts with non-digit (anything except 0-9):\n",
        "    go to the next line\n",
        "else if the word starts with digit:\n",
        "    put into a list\n",
        "\n"
      ],
      "metadata": {
        "id": "SOBG-ZlEDmoG"
      }
    }
  ]
}