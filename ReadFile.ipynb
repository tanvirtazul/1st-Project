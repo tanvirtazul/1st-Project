{
  "nbformat": 4,
  "nbformat_minor": 0,
  "metadata": {
    "colab": {
      "name": "ReadFile.ipynb",
      "provenance": [],
      "authorship_tag": "ABX9TyMbgkKptbXx1Ncumg3PdncC",
      "include_colab_link": true
    },
    "kernelspec": {
      "name": "python3",
      "display_name": "Python 3"
    },
    "language_info": {
      "name": "python"
    }
  },
  "cells": [
    {
      "cell_type": "markdown",
      "metadata": {
        "id": "view-in-github",
        "colab_type": "text"
      },
      "source": [
        "<a href=\"https://colab.research.google.com/github/tanvirtazul/1st-Project/blob/main/ReadFile.ipynb\" target=\"_parent\"><img src=\"https://colab.research.google.com/assets/colab-badge.svg\" alt=\"Open In Colab\"/></a>"
      ]
    },
    {
      "cell_type": "code",
      "execution_count": 6,
      "metadata": {
        "colab": {
          "base_uri": "https://localhost:8080/",
          "height": 220
        },
        "id": "Y4aPdesfBjgg",
        "outputId": "330dfdd2-634e-418e-fb16-b1d852e645e1"
      },
      "outputs": [
        {
          "output_type": "error",
          "ename": "FileNotFoundError",
          "evalue": "ignored",
          "traceback": [
            "\u001b[0;31m---------------------------------------------------------------------------\u001b[0m",
            "\u001b[0;31mFileNotFoundError\u001b[0m                         Traceback (most recent call last)",
            "\u001b[0;32m<ipython-input-6-e6a3f0856574>\u001b[0m in \u001b[0;36m<module>\u001b[0;34m()\u001b[0m\n\u001b[0;32m----> 1\u001b[0;31m \u001b[0mf\u001b[0m \u001b[0;34m=\u001b[0m \u001b[0mopen\u001b[0m\u001b[0;34m(\u001b[0m\u001b[0;34m\"C:/Users/Tanvir Tazul Islam/Desktop/Note.txt\"\u001b[0m\u001b[0;34m)\u001b[0m\u001b[0;34m\u001b[0m\u001b[0;34m\u001b[0m\u001b[0m\n\u001b[0m\u001b[1;32m      2\u001b[0m \u001b[0;34m\u001b[0m\u001b[0m\n\u001b[1;32m      3\u001b[0m \u001b[0;32mfor\u001b[0m \u001b[0mline\u001b[0m \u001b[0;32min\u001b[0m \u001b[0mf\u001b[0m\u001b[0;34m:\u001b[0m\u001b[0;34m\u001b[0m\u001b[0;34m\u001b[0m\u001b[0m\n\u001b[1;32m      4\u001b[0m   \u001b[0mprint\u001b[0m\u001b[0;34m(\u001b[0m\u001b[0mlilne\u001b[0m\u001b[0;34m)\u001b[0m\u001b[0;34m\u001b[0m\u001b[0;34m\u001b[0m\u001b[0m\n",
            "\u001b[0;31mFileNotFoundError\u001b[0m: [Errno 2] No such file or directory: 'C:/Users/Tanvir Tazul Islam/Desktop/Note.txt'"
          ]
        }
      ],
      "source": [
        "f = open(\"C:/Users/Tanvir Tazul Islam/Desktop/Note.txt\")\n",
        "\n",
        "for line in f:\n",
        "  print(lilne)"
      ]
    },
    {
      "cell_type": "markdown",
      "source": [
        "Digits: 0-9\n",
        "Character: ','\n",
        "\n",
        "\n",
        "line = Read the text file line by line.\n",
        "\n",
        "Go thru the line\n",
        "\n",
        "If the word starts with non-digit (anything except 0-9):\n",
        "    go to the next line\n",
        "else if the word starts with digit:\n",
        "    put into a list\n",
        "\n"
      ],
      "metadata": {
        "id": "SOBG-ZlEDmoG"
      }
    }
  ]
}